{
  "metadata": {
    "kernelspec": {
      "name": "python",
      "display_name": "Python (Pyodide)",
      "language": "python"
    },
    "language_info": {
      "codemirror_mode": {
        "name": "python",
        "version": 3
      },
      "file_extension": ".py",
      "mimetype": "text/x-python",
      "name": "python",
      "nbconvert_exporter": "python",
      "pygments_lexer": "ipython3",
      "version": "3.8"
    }
  },
  "nbformat_minor": 4,
  "nbformat": 4,
  "cells": [
    {
      "cell_type": "markdown",
      "source": "Retrieve financial data and create a pandas dataframe\n",
      "metadata": {
        "tags": [],
        "editable": true,
        "slideshow": {
          "slide_type": ""
        }
      }
    },
    {
      "cell_type": "code",
      "source": "import yfinance as yf\nimport pandas as pd\n\n# Define the stock tickers and time period\ntickers = [\"AAPL\", \"MSFT\", \"TSLA\"]\nstart_date = \"2020-01-01\"\nend_date = \"2023-12-31\"\n\n# Download historical data\ndata = yf.download(tickers, start=start_date, end=end_date)[\"Adj Close\"]\n\n# Calculate daily returns\nreturns = data.pct_change().dropna()\n\n# Print summary of the data\nprint(returns.head())",
      "metadata": {
        "trusted": true,
        "tags": [],
        "editable": true,
        "slideshow": {
          "slide_type": ""
        }
      },
      "outputs": [
        {
          "ename": "<class 'ModuleNotFoundError'>",
          "evalue": "No module named 'yfinance'",
          "traceback": [
            "\u001b[0;31m---------------------------------------------------------------------------\u001b[0m",
            "\u001b[0;31mModuleNotFoundError\u001b[0m                       Traceback (most recent call last)",
            "Cell \u001b[0;32mIn[4], line 1\u001b[0m\n\u001b[0;32m----> 1\u001b[0m \u001b[38;5;28;01mimport\u001b[39;00m \u001b[38;5;21;01myfinance\u001b[39;00m \u001b[38;5;28;01mas\u001b[39;00m \u001b[38;5;21;01myf\u001b[39;00m\n\u001b[1;32m      2\u001b[0m \u001b[38;5;28;01mimport\u001b[39;00m \u001b[38;5;21;01mpandas\u001b[39;00m \u001b[38;5;28;01mas\u001b[39;00m \u001b[38;5;21;01mpd\u001b[39;00m\n\u001b[1;32m      4\u001b[0m \u001b[38;5;66;03m# Define the stock tickers and time period\u001b[39;00m\n",
            "\u001b[0;31mModuleNotFoundError\u001b[0m: No module named 'yfinance'"
          ],
          "output_type": "error"
        }
      ],
      "execution_count": 4
    },
    {
      "cell_type": "markdown",
      "source": "Mean returns and covariance matrix",
      "metadata": {}
    },
    {
      "cell_type": "code",
      "source": "import numpy as np\n\n# Calculate the mean returns and covariance matrix\nmean_returns = returns.mean()\ncov_matrix = returns.cov()\n\nprint(\"Mean Returns:\\n\", mean_returns)\nprint(\"Covariance Matrix:\\n\", cov_matrix)",
      "metadata": {
        "trusted": true,
        "tags": [],
        "editable": true,
        "slideshow": {
          "slide_type": ""
        }
      },
      "outputs": [
        {
          "ename": "<class 'NameError'>",
          "evalue": "name 'returns' is not defined",
          "traceback": [
            "\u001b[0;31m---------------------------------------------------------------------------\u001b[0m",
            "\u001b[0;31mNameError\u001b[0m                                 Traceback (most recent call last)",
            "Cell \u001b[0;32mIn[4], line 4\u001b[0m\n\u001b[1;32m      1\u001b[0m \u001b[38;5;28;01mimport\u001b[39;00m \u001b[38;5;21;01mnumpy\u001b[39;00m \u001b[38;5;28;01mas\u001b[39;00m \u001b[38;5;21;01mnp\u001b[39;00m\n\u001b[1;32m      3\u001b[0m \u001b[38;5;66;03m# Calculate the mean returns and covariance matrix\u001b[39;00m\n\u001b[0;32m----> 4\u001b[0m mean_returns \u001b[38;5;241m=\u001b[39m \u001b[43mreturns\u001b[49m\u001b[38;5;241m.\u001b[39mmean()\n\u001b[1;32m      5\u001b[0m cov_matrix \u001b[38;5;241m=\u001b[39m returns\u001b[38;5;241m.\u001b[39mcov()\n\u001b[1;32m      7\u001b[0m \u001b[38;5;28mprint\u001b[39m(\u001b[38;5;124m\"\u001b[39m\u001b[38;5;124mMean Returns:\u001b[39m\u001b[38;5;130;01m\\n\u001b[39;00m\u001b[38;5;124m\"\u001b[39m, mean_returns)\n",
            "\u001b[0;31mNameError\u001b[0m: name 'returns' is not defined"
          ],
          "output_type": "error"
        }
      ],
      "execution_count": 4
    },
    {
      "cell_type": "code",
      "source": "from scipy.optimize import minimize\n\n# Portfolio optimization functions\ndef portfolio_performance(weights, mean_returns, cov_matrix):\n    portfolio_return = np.dot(weights, mean_returns)\n    portfolio_risk = np.sqrt(np.dot(weights.T, np.dot(cov_matrix, weights)))\n    return portfolio_return, portfolio_risk\n\ndef minimize_risk(weights, mean_returns, cov_matrix, target_return):\n    _, portfolio_risk = portfolio_performance(weights, mean_returns, cov_matrix)\n    return portfolio_risk\n\n# Constraints: Weights sum to 1, and target return\ndef constraint(weights):\n    return np.sum(weights) - 1\n\n# Bounds: Each weight is between 0 and 1\nbounds = tuple((0, 1) for _ in range(len(mean_returns)))\n\n# Target return\ntarget_return = 0.001  # Adjust based on your desired return\n\n# Initial weights\ninitial_weights = np.array([1/len(mean_returns)] * len(mean_returns))\n\n# Optimization\nconstraints = [{'type': 'eq', 'fun': constraint},\n               {'type': 'eq', 'fun': lambda weights: np.dot(weights, mean_returns) - target_return}]\n\noptimized = minimize(minimize_risk, initial_weights, args=(mean_returns, cov_matrix, target_return),\n                     method='SLSQP', bounds=bounds, constraints=constraints)\n\noptimized_weights = optimized.x\nprint(\"Optimized Weights:\", optimized_weights)\n",
      "metadata": {
        "trusted": true,
        "tags": [],
        "editable": true,
        "slideshow": {
          "slide_type": ""
        }
      },
      "outputs": [],
      "execution_count": null
    },
    {
      "cell_type": "code",
      "source": "import matplotlib.pyplot as plt\n\ndef efficient_frontier(mean_returns, cov_matrix, num_portfolios=100):\n    results = {\"returns\": [], \"risks\": [], \"weights\": []}\n    for _ in range(num_portfolios):\n        weights = np.random.dirichlet(np.ones(len(mean_returns)), size=1).flatten()\n        portfolio_return, portfolio_risk = portfolio_performance(weights, mean_returns, cov_matrix)\n        results[\"returns\"].append(portfolio_return)\n        results[\"risks\"].append(portfolio_risk)\n        results[\"weights\"].append(weights)\n    return results\n\n# Generate random portfolios\nresults = efficient_frontier(mean_returns, cov_matrix)\n\n# Plot efficient frontier\nplt.scatter(results[\"risks\"], results[\"returns\"], c=np.array(results[\"returns\"])/np.array(results[\"risks\"]), cmap=\"viridis\")\nplt.colorbar(label=\"Sharpe Ratio\")\nplt.xlabel(\"Risk (Standard Deviation)\")\nplt.ylabel(\"Return\")\nplt.title(\"Efficient Frontier\")\nplt.show()\n",
      "metadata": {
        "trusted": true,
        "tags": [],
        "editable": true,
        "slideshow": {
          "slide_type": ""
        }
      },
      "outputs": [],
      "execution_count": null
    }
  ]
}