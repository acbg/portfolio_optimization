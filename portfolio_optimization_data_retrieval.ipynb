{
  "cells": [
    {
      "cell_type": "markdown",
      "metadata": {
        "editable": true,
        "slideshow": {
          "slide_type": ""
        },
        "tags": []
      },
      "source": [
        "Retrieve financial data and create a pandas dataframe\n"
      ]
    },
    {
      "cell_type": "code",
      "execution_count": 2,
      "metadata": {
        "editable": true,
        "slideshow": {
          "slide_type": ""
        },
        "tags": [],
        "trusted": true
      },
      "outputs": [
        {
          "ename": "ModuleNotFoundError",
          "evalue": "No module named 'yfinance'",
          "output_type": "error",
          "traceback": [
            "\u001b[0;31m---------------------------------------------------------------------------\u001b[0m",
            "\u001b[0;31mModuleNotFoundError\u001b[0m                       Traceback (most recent call last)",
            "Cell \u001b[0;32mIn[2], line 1\u001b[0m\n\u001b[0;32m----> 1\u001b[0m \u001b[38;5;28;01mimport\u001b[39;00m \u001b[38;5;21;01myfinance\u001b[39;00m \u001b[38;5;28;01mas\u001b[39;00m \u001b[38;5;21;01myf\u001b[39;00m\n\u001b[1;32m      2\u001b[0m \u001b[38;5;28;01mimport\u001b[39;00m \u001b[38;5;21;01mpandas\u001b[39;00m \u001b[38;5;28;01mas\u001b[39;00m \u001b[38;5;21;01mpd\u001b[39;00m\n\u001b[1;32m      4\u001b[0m \u001b[38;5;66;03m# Define the stock tickers and time period\u001b[39;00m\n",
            "\u001b[0;31mModuleNotFoundError\u001b[0m: No module named 'yfinance'"
          ]
        }
      ],
      "source": [
        "import yfinance as yf\n",
        "import pandas as pd\n",
        "\n",
        "# Define the stock tickers and time period\n",
        "tickers = [\"AAPL\", \"MSFT\", \"TSLA\"]\n",
        "start_date = \"2020-01-01\"\n",
        "end_date = \"2023-12-31\"\n",
        "\n",
        "# Download historical data\n",
        "data = yf.download(tickers, start=start_date, end=end_date)[\"Adj Close\"]\n",
        "\n",
        "# Calculate daily returns\n",
        "returns = data.pct_change().dropna()\n",
        "\n",
        "# Print summary of the data\n",
        "print(returns.head())"
      ]
    },
    {
      "cell_type": "markdown",
      "metadata": {},
      "source": [
        "Mean returns and covariance matrix"
      ]
    },
    {
      "cell_type": "code",
      "execution_count": 3,
      "metadata": {
        "editable": true,
        "slideshow": {
          "slide_type": ""
        },
        "tags": [],
        "trusted": true
      },
      "outputs": [
        {
          "ename": "NameError",
          "evalue": "name 'returns' is not defined",
          "output_type": "error",
          "traceback": [
            "\u001b[0;31m---------------------------------------------------------------------------\u001b[0m",
            "\u001b[0;31mNameError\u001b[0m                                 Traceback (most recent call last)",
            "Cell \u001b[0;32mIn[3], line 4\u001b[0m\n\u001b[1;32m      1\u001b[0m \u001b[38;5;28;01mimport\u001b[39;00m \u001b[38;5;21;01mnumpy\u001b[39;00m \u001b[38;5;28;01mas\u001b[39;00m \u001b[38;5;21;01mnp\u001b[39;00m\n\u001b[1;32m      3\u001b[0m \u001b[38;5;66;03m# Calculate the mean returns and covariance matrix\u001b[39;00m\n\u001b[0;32m----> 4\u001b[0m mean_returns \u001b[38;5;241m=\u001b[39m \u001b[43mreturns\u001b[49m\u001b[38;5;241m.\u001b[39mmean()\n\u001b[1;32m      5\u001b[0m cov_matrix \u001b[38;5;241m=\u001b[39m returns\u001b[38;5;241m.\u001b[39mcov()\n\u001b[1;32m      7\u001b[0m \u001b[38;5;28mprint\u001b[39m(\u001b[38;5;124m\"\u001b[39m\u001b[38;5;124mMean Returns:\u001b[39m\u001b[38;5;130;01m\\n\u001b[39;00m\u001b[38;5;124m\"\u001b[39m, mean_returns)\n",
            "\u001b[0;31mNameError\u001b[0m: name 'returns' is not defined"
          ]
        }
      ],
      "source": [
        "import numpy as np\n",
        "\n",
        "# Calculate the mean returns and covariance matrix\n",
        "mean_returns = returns.mean()\n",
        "cov_matrix = returns.cov()\n",
        "\n",
        "print(\"Mean Returns:\\n\", mean_returns)\n",
        "print(\"Covariance Matrix:\\n\", cov_matrix)"
      ]
    },
    {
      "cell_type": "code",
      "execution_count": 4,
      "metadata": {
        "editable": true,
        "slideshow": {
          "slide_type": ""
        },
        "tags": [],
        "trusted": true
      },
      "outputs": [
        {
          "ename": "NameError",
          "evalue": "name 'mean_returns' is not defined",
          "output_type": "error",
          "traceback": [
            "\u001b[0;31m---------------------------------------------------------------------------\u001b[0m",
            "\u001b[0;31mNameError\u001b[0m                                 Traceback (most recent call last)",
            "Cell \u001b[0;32mIn[4], line 18\u001b[0m\n\u001b[1;32m     15\u001b[0m     \u001b[38;5;28;01mreturn\u001b[39;00m np\u001b[38;5;241m.\u001b[39msum(weights) \u001b[38;5;241m-\u001b[39m \u001b[38;5;241m1\u001b[39m\n\u001b[1;32m     17\u001b[0m \u001b[38;5;66;03m# Bounds: Each weight is between 0 and 1\u001b[39;00m\n\u001b[0;32m---> 18\u001b[0m bounds \u001b[38;5;241m=\u001b[39m \u001b[38;5;28mtuple\u001b[39m((\u001b[38;5;241m0\u001b[39m, \u001b[38;5;241m1\u001b[39m) \u001b[38;5;28;01mfor\u001b[39;00m _ \u001b[38;5;129;01min\u001b[39;00m \u001b[38;5;28mrange\u001b[39m(\u001b[38;5;28mlen\u001b[39m(\u001b[43mmean_returns\u001b[49m)))\n\u001b[1;32m     20\u001b[0m \u001b[38;5;66;03m# Target return\u001b[39;00m\n\u001b[1;32m     21\u001b[0m target_return \u001b[38;5;241m=\u001b[39m \u001b[38;5;241m0.001\u001b[39m  \u001b[38;5;66;03m# Adjust based on your desired return\u001b[39;00m\n",
            "\u001b[0;31mNameError\u001b[0m: name 'mean_returns' is not defined"
          ]
        }
      ],
      "source": [
        "from scipy.optimize import minimize\n",
        "\n",
        "# Portfolio optimization functions\n",
        "def portfolio_performance(weights, mean_returns, cov_matrix):\n",
        "    portfolio_return = np.dot(weights, mean_returns)\n",
        "    portfolio_risk = np.sqrt(np.dot(weights.T, np.dot(cov_matrix, weights)))\n",
        "    return portfolio_return, portfolio_risk\n",
        "\n",
        "def minimize_risk(weights, mean_returns, cov_matrix, target_return):\n",
        "    _, portfolio_risk = portfolio_performance(weights, mean_returns, cov_matrix)\n",
        "    return portfolio_risk\n",
        "\n",
        "# Constraints: Weights sum to 1, and target return\n",
        "def constraint(weights):\n",
        "    return np.sum(weights) - 1\n",
        "\n",
        "# Bounds: Each weight is between 0 and 1\n",
        "bounds = tuple((0, 1) for _ in range(len(mean_returns)))\n",
        "\n",
        "# Target return\n",
        "target_return = 0.001  # Adjust based on your desired return\n",
        "\n",
        "# Initial weights\n",
        "initial_weights = np.array([1/len(mean_returns)] * len(mean_returns))\n",
        "\n",
        "# Optimization\n",
        "constraints = [{'type': 'eq', 'fun': constraint},\n",
        "               {'type': 'eq', 'fun': lambda weights: np.dot(weights, mean_returns) - target_return}]\n",
        "\n",
        "optimized = minimize(minimize_risk, initial_weights, args=(mean_returns, cov_matrix, target_return),\n",
        "                     method='SLSQP', bounds=bounds, constraints=constraints)\n",
        "\n",
        "optimized_weights = optimized.x\n",
        "print(\"Optimized Weights:\", optimized_weights)\n"
      ]
    },
    {
      "cell_type": "code",
      "execution_count": 5,
      "metadata": {
        "editable": true,
        "slideshow": {
          "slide_type": ""
        },
        "tags": [],
        "trusted": true
      },
      "outputs": [
        {
          "ename": "NameError",
          "evalue": "name 'mean_returns' is not defined",
          "output_type": "error",
          "traceback": [
            "\u001b[0;31m---------------------------------------------------------------------------\u001b[0m",
            "\u001b[0;31mNameError\u001b[0m                                 Traceback (most recent call last)",
            "Cell \u001b[0;32mIn[5], line 14\u001b[0m\n\u001b[1;32m     11\u001b[0m     \u001b[38;5;28;01mreturn\u001b[39;00m results\n\u001b[1;32m     13\u001b[0m \u001b[38;5;66;03m# Generate random portfolios\u001b[39;00m\n\u001b[0;32m---> 14\u001b[0m results \u001b[38;5;241m=\u001b[39m efficient_frontier(\u001b[43mmean_returns\u001b[49m, cov_matrix)\n\u001b[1;32m     16\u001b[0m \u001b[38;5;66;03m# Plot efficient frontier\u001b[39;00m\n\u001b[1;32m     17\u001b[0m plt\u001b[38;5;241m.\u001b[39mscatter(results[\u001b[38;5;124m\"\u001b[39m\u001b[38;5;124mrisks\u001b[39m\u001b[38;5;124m\"\u001b[39m], results[\u001b[38;5;124m\"\u001b[39m\u001b[38;5;124mreturns\u001b[39m\u001b[38;5;124m\"\u001b[39m], c\u001b[38;5;241m=\u001b[39mnp\u001b[38;5;241m.\u001b[39marray(results[\u001b[38;5;124m\"\u001b[39m\u001b[38;5;124mreturns\u001b[39m\u001b[38;5;124m\"\u001b[39m])\u001b[38;5;241m/\u001b[39mnp\u001b[38;5;241m.\u001b[39marray(results[\u001b[38;5;124m\"\u001b[39m\u001b[38;5;124mrisks\u001b[39m\u001b[38;5;124m\"\u001b[39m]), cmap\u001b[38;5;241m=\u001b[39m\u001b[38;5;124m\"\u001b[39m\u001b[38;5;124mviridis\u001b[39m\u001b[38;5;124m\"\u001b[39m)\n",
            "\u001b[0;31mNameError\u001b[0m: name 'mean_returns' is not defined"
          ]
        }
      ],
      "source": [
        "import matplotlib.pyplot as plt\n",
        "\n",
        "def efficient_frontier(mean_returns, cov_matrix, num_portfolios=100):\n",
        "    results = {\"returns\": [], \"risks\": [], \"weights\": []}\n",
        "    for _ in range(num_portfolios):\n",
        "        weights = np.random.dirichlet(np.ones(len(mean_returns)), size=1).flatten()\n",
        "        portfolio_return, portfolio_risk = portfolio_performance(weights, mean_returns, cov_matrix)\n",
        "        results[\"returns\"].append(portfolio_return)\n",
        "        results[\"risks\"].append(portfolio_risk)\n",
        "        results[\"weights\"].append(weights)\n",
        "    return results\n",
        "\n",
        "# Generate random portfolios\n",
        "results = efficient_frontier(mean_returns, cov_matrix)\n",
        "\n",
        "# Plot efficient frontier\n",
        "plt.scatter(results[\"risks\"], results[\"returns\"], c=np.array(results[\"returns\"])/np.array(results[\"risks\"]), cmap=\"viridis\")\n",
        "plt.colorbar(label=\"Sharpe Ratio\")\n",
        "plt.xlabel(\"Risk (Standard Deviation)\")\n",
        "plt.ylabel(\"Return\")\n",
        "plt.title(\"Efficient Frontier\")\n",
        "plt.show()\n"
      ]
    },
    {
      "cell_type": "code",
      "execution_count": null,
      "metadata": {},
      "outputs": [],
      "source": []
    }
  ],
  "metadata": {
    "kernelspec": {
      "display_name": "Python 3 (ipykernel)",
      "language": "python",
      "name": "python3"
    },
    "language_info": {
      "codemirror_mode": {
        "name": "ipython",
        "version": 3
      },
      "file_extension": ".py",
      "mimetype": "text/x-python",
      "name": "python",
      "nbconvert_exporter": "python",
      "pygments_lexer": "ipython3",
      "version": "3.12.1"
    }
  },
  "nbformat": 4,
  "nbformat_minor": 4
}
